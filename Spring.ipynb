{
 "metadata": {
  "name": "",
  "signature": "sha256:f61cf337244e6e94450f12e4fa1cf5a79943619f2fb316d0dc19c0a8e4ad30b4"
 },
 "nbformat": 3,
 "nbformat_minor": 0,
 "worksheets": [
  {
   "cells": [
    {
     "cell_type": "code",
     "collapsed": false,
     "input": [
      "from ivisual import *"
     ],
     "language": "python",
     "metadata": {},
     "outputs": [
      {
       "html": [
        "<div id=\"scene0\"><div id=\"glowscript\" class=\"glowscript\"></div></div>"
       ],
       "metadata": {},
       "output_type": "display_data",
       "text": [
        "<IPython.core.display.HTML at 0x105c36590>"
       ]
      },
      {
       "javascript": [
        "require.undef(\"nbextensions/glow.1.0.min\");"
       ],
       "metadata": {},
       "output_type": "display_data",
       "text": [
        "<IPython.core.display.Javascript at 0x106358a50>"
       ]
      },
      {
       "javascript": [
        "require.undef(\"nbextensions/jquery-ui.custom.min\");"
       ],
       "metadata": {},
       "output_type": "display_data",
       "text": [
        "<IPython.core.display.Javascript at 0x106358a90>"
       ]
      },
      {
       "javascript": [
        "require.undef(\"nbextensions/glow.1.1.min\");"
       ],
       "metadata": {},
       "output_type": "display_data",
       "text": [
        "<IPython.core.display.Javascript at 0x106358ad0>"
       ]
      },
      {
       "javascript": [
        "require.undef(\"nbextensions/glowcomm\");"
       ],
       "metadata": {},
       "output_type": "display_data",
       "text": [
        "<IPython.core.display.Javascript at 0x106358c10>"
       ]
      },
      {
       "javascript": [
        "require([\"nbextensions/glowcomm\"], function(){console.log(\"glowcomm loaded\");})"
       ],
       "metadata": {},
       "output_type": "display_data",
       "text": [
        "<IPython.core.display.Javascript at 0x106358c90>"
       ]
      }
     ],
     "prompt_number": 1
    },
    {
     "cell_type": "code",
     "collapsed": false,
     "input": [
      "from math import *\n",
      "\n",
      "scene = canvas(title = \"Spring Mass\")\n",
      "\n",
      "relaxedlength = vector(0.6,0,0) # length of spring when it isn't stretched or compressed .60\n",
      "spring = helix(pos=(-.75,0,0),axis=relaxedlength, radius=.1,coils=8,thickness=.01,color=color.green)\n",
      "weight = box(pos=(0,0,0),size=(.3,.3,.3),color=color.yellow)\n",
      "frictionlessSurface = box(size=(2,.02,.5),pos=(0,-.16,0))\n",
      "wall = box(size=(.04,.5,.3),pos=(-.77,.1,0),color=color.red)\n",
      "\n",
      "# \n",
      "g=9.8 # m/s**2\n",
      "spring.constant = 2 # k\n",
      "weight.mass = 10 # kg\n",
      "mu = 0.00 # friction\n",
      "\n",
      "# initial position\n",
      "xpos=0.35 #0.35\n",
      "weight.pos=vector(xpos,0,0)\n",
      "spring.displacement=weight.pos\n",
      "spring.axis=relaxedlength+spring.displacement\n",
      "\n",
      "weight.velocity = vector(0,0,0)\n",
      "weight.acceleration = vector(0,0,0)\n",
      "weight.force = vector(0,0,0)\n",
      "\n",
      "\n",
      "\n",
      "def ani():\n",
      "    dt = .01    # seconds\n",
      "    seconds = 0 # total time\n",
      "    steps=5000 #integration steps: final time= dt*steps\n",
      "\n",
      "    while seconds < dt*steps:\n",
      "        rate(100)\n",
      "        seconds = seconds + dt\n",
      "\n",
      "        F_fr=vector(0,0,0)\n",
      "        if weight.velocity.x>0:\n",
      "            F_fr=vector(-mu*weight.mass*g,0,0)\n",
      "        elif weight.velocity.x<0:\n",
      "            F_fr=vector(mu*weight.mass*g,0,0)\n",
      "\n",
      "        # Calculate the spring force using Hooke's Law\n",
      "        SpringForce = -spring.constant * spring.displacement+F_fr\n",
      "\n",
      "        # The spring force acts on the weight\n",
      "        weight.force = SpringForce\n",
      "\n",
      "        # move the weight from weight.pos using \n",
      "        # the momentum principle\n",
      "        #weight.acceleration = weight.force/weight.mass\n",
      "        weight.velocity += dt*weight.force/weight.mass # F*dt=dp\n",
      "        weight.pos += weight.velocity*dt #+O(dt^2) -> + .5 * weight.acceleration * dt**2\n",
      "\n",
      "        # calculate the new spring displacement\n",
      "        spring.displacement = weight.pos\n",
      "\n",
      "        # update the length of the spring\n",
      "        spring.axis = relaxedlength + spring.displacement"
     ],
     "language": "python",
     "metadata": {},
     "outputs": [
      {
       "html": [
        "<div id=\"scene15\"><div id=\"glowscript\" class=\"glowscript\"></div></div>"
       ],
       "metadata": {},
       "output_type": "display_data",
       "text": [
        "<IPython.core.display.HTML at 0x107196990>"
       ]
      },
      {
       "javascript": [
        "window.__context = { glowscript_container: $(\"#glowscript\").removeAttr(\"id\")}"
       ],
       "metadata": {},
       "output_type": "display_data",
       "text": [
        "<IPython.core.display.Javascript at 0x10717b5d0>"
       ]
      }
     ],
     "prompt_number": 26
    },
    {
     "cell_type": "code",
     "collapsed": false,
     "input": [
      "ani()"
     ],
     "language": "python",
     "metadata": {},
     "outputs": [],
     "prompt_number": 27
    },
    {
     "cell_type": "code",
     "collapsed": false,
     "input": [],
     "language": "python",
     "metadata": {},
     "outputs": []
    }
   ],
   "metadata": {}
  }
 ]
}