{
 "metadata": {
  "name": "",
  "signature": "sha256:fb9af5878ec5d57e44a67ca6abfe9e4b544363e2ffef4ccd84bd9c470064b2da"
 },
 "nbformat": 3,
 "nbformat_minor": 0,
 "worksheets": [
  {
   "cells": [
    {
     "cell_type": "markdown",
     "metadata": {},
     "source": [
      "* Create a scene.\n",
      "* Create a ball.\n",
      "* Create a wall.\n",
      "* Move the ball.\n",
      "* Animate at certain rate.\n",
      "* Make the ball bounce at the right wall.\n",
      "* Create a left wall.\n",
      "* Make the ball bounce at the left wall.\n",
      "* Create an arrow representing the initial velocity.\n",
      "* Rescale the velocity vector.\n",
      "* Move the velocity vector with the ball.\n",
      "* Make a trail.\n",
      "* Make up and down walls.\n",
      "* Make bottom wall and invisible top wall."
     ]
    },
    {
     "cell_type": "code",
     "collapsed": false,
     "input": [
      "from ivisual import *\n",
      "\n",
      "scene = canvas()\n",
      "\n",
      "scene.width = 800\n",
      "scene.height = 600\n",
      "\n",
      "scene.autoscale = 0\n",
      "scene.range = (10,10,10)\n",
      "scene.center = (0,0,0)\n",
      "\n",
      "ball = sphere(pos=(-5,-5,0), radius=0.5, color=color.cyan)\n",
      "wallR = box(pos=(+6,0,0), size=(0.2,12,12), color=color.green)\n",
      "wallL = box(pos=(-6,0,0), size=(0.2,12,12), color=color.green)\n",
      "wallU = box(pos=(0,+6,0), size=(12,0.2,12), color=color.blue)\n",
      "wallD = box(pos=(0,-6,0), size=(12,0.2,12), color=color.blue)\n",
      "wallB = box(pos=(0,0,-6), size=(12,12,0.2), color=color.red)\n",
      "\n",
      "\n",
      "ball.velocity = vector(25,5,-5)\n",
      "vscale = 0.1\n",
      "varr = arrow(pos=ball.pos, axis=vscale*ball.velocity, color=color.yellow)\n",
      "\n",
      "ball.trail = curve(color=ball.color)\n",
      "\n",
      "deltat = 0.005\n",
      "t=0\n",
      "\n",
      "while t < 10:\n",
      "    rate(50)\n",
      "    if ball.pos.x > wallR.pos.x:\n",
      "         ball.velocity.x = -ball.velocity.x\n",
      "    if ball.pos.x < wallL.pos.x:\n",
      "         ball.velocity.x = -ball.velocity.x\n",
      "    if ball.pos.y > wallU.pos.y:\n",
      "         ball.velocity.y = -ball.velocity.y\n",
      "    if ball.pos.y < wallD.pos.y:\n",
      "         ball.velocity.y = -ball.velocity.y\n",
      "    if ball.pos.z < wallB.pos.z:\n",
      "        ball.velocity.z = -ball.velocity.z\n",
      "    if ball.pos.z > +6:\n",
      "        ball.velocity.z = -ball.velocity.z\n",
      "    \n",
      "    ball.pos = ball.pos + ball.velocity*deltat\n",
      "    varr.pos = ball.pos\n",
      "    varr.axis = vscale*ball.velocity\n",
      "    ball.trail.append(pos=ball.pos)\n",
      "    \n",
      "    t = t + deltat"
     ],
     "language": "python",
     "metadata": {},
     "outputs": [
      {
       "html": [
        "<div id=\"scene0\"><div id=\"glowscript\" class=\"glowscript\"></div></div>"
       ],
       "metadata": {},
       "output_type": "display_data",
       "text": [
        "<IPython.core.display.HTML at 0x1068669d0>"
       ]
      },
      {
       "javascript": [
        "require.undef(\"nbextensions/glow.1.0.min\");"
       ],
       "metadata": {},
       "output_type": "display_data",
       "text": [
        "<IPython.core.display.Javascript at 0x106b74950>"
       ]
      },
      {
       "javascript": [
        "require.undef(\"nbextensions/jquery-ui.custom.min\");"
       ],
       "metadata": {},
       "output_type": "display_data",
       "text": [
        "<IPython.core.display.Javascript at 0x106b74990>"
       ]
      },
      {
       "javascript": [
        "require.undef(\"nbextensions/glow.1.1.min\");"
       ],
       "metadata": {},
       "output_type": "display_data",
       "text": [
        "<IPython.core.display.Javascript at 0x106b749d0>"
       ]
      },
      {
       "javascript": [
        "require.undef(\"nbextensions/glowcomm\");"
       ],
       "metadata": {},
       "output_type": "display_data",
       "text": [
        "<IPython.core.display.Javascript at 0x106b74b10>"
       ]
      },
      {
       "javascript": [
        "require([\"nbextensions/glowcomm\"], function(){console.log(\"glowcomm loaded\");})"
       ],
       "metadata": {},
       "output_type": "display_data",
       "text": [
        "<IPython.core.display.Javascript at 0x106b74b90>"
       ]
      }
     ],
     "prompt_number": 1
    },
    {
     "cell_type": "code",
     "collapsed": false,
     "input": [],
     "language": "python",
     "metadata": {},
     "outputs": []
    }
   ],
   "metadata": {}
  }
 ]
}