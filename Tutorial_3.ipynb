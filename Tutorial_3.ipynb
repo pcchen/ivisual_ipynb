{
 "metadata": {
  "name": "",
  "signature": "sha256:a30c5dfb1592226291d0df27548b119be41f2b5fba965017dd7facdb4034e225"
 },
 "nbformat": 3,
 "nbformat_minor": 0,
 "worksheets": [
  {
   "cells": [
    {
     "cell_type": "markdown",
     "metadata": {},
     "source": [
      "* Create a scene.\n",
      "* Create a ball.\n",
      "* Create a wall.\n",
      "* Move the ball.\n",
      "* Animate at certain rate."
     ]
    },
    {
     "cell_type": "code",
     "collapsed": false,
     "input": [
      "from ivisual import *\n",
      "\n",
      "scene = canvas()\n",
      "\n",
      "scene.width = 800\n",
      "scene.height = 600\n",
      "\n",
      "scene.autoscale = 0\n",
      "scene.range = (10,10,10)\n",
      "scene.center = (0,0,0)\n",
      "\n",
      "ball = sphere(pos=(-5,0,0), radius=0.5, color=color.cyan)\n",
      "wallR = box(pos=(6,0,0), size=(0.2,12,12), color=color.green)\n",
      "\n",
      "ball.velocity = vector(25,0,0)\n",
      "\n",
      "deltat = 0.005\n",
      "t=0\n",
      "\n",
      "while t < 3:\n",
      "    rate(50)\n",
      "    ball.pos = ball.pos + ball.velocity*deltat\n",
      "    t = t + deltat"
     ],
     "language": "python",
     "metadata": {},
     "outputs": [
      {
       "html": [
        "<div id=\"scene0\"><div id=\"glowscript\" class=\"glowscript\"></div></div>"
       ],
       "metadata": {},
       "output_type": "display_data",
       "text": [
        "<IPython.core.display.HTML at 0x1054fe810>"
       ]
      },
      {
       "javascript": [
        "require.undef(\"nbextensions/glow.1.0.min\");"
       ],
       "metadata": {},
       "output_type": "display_data",
       "text": [
        "<IPython.core.display.Javascript at 0x106267410>"
       ]
      },
      {
       "javascript": [
        "require.undef(\"nbextensions/jquery-ui.custom.min\");"
       ],
       "metadata": {},
       "output_type": "display_data",
       "text": [
        "<IPython.core.display.Javascript at 0x106267450>"
       ]
      },
      {
       "javascript": [
        "require.undef(\"nbextensions/glow.1.1.min\");"
       ],
       "metadata": {},
       "output_type": "display_data",
       "text": [
        "<IPython.core.display.Javascript at 0x106267490>"
       ]
      },
      {
       "javascript": [
        "require.undef(\"nbextensions/glowcomm\");"
       ],
       "metadata": {},
       "output_type": "display_data",
       "text": [
        "<IPython.core.display.Javascript at 0x1062675d0>"
       ]
      },
      {
       "javascript": [
        "require([\"nbextensions/glowcomm\"], function(){console.log(\"glowcomm loaded\");})"
       ],
       "metadata": {},
       "output_type": "display_data",
       "text": [
        "<IPython.core.display.Javascript at 0x106267650>"
       ]
      }
     ],
     "prompt_number": 1
    },
    {
     "cell_type": "code",
     "collapsed": false,
     "input": [],
     "language": "python",
     "metadata": {},
     "outputs": []
    }
   ],
   "metadata": {}
  }
 ]
}