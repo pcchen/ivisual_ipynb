{
 "metadata": {
  "name": "",
  "signature": "sha256:a61f331a70ae36b6559fdd2f03b658251ab9f1b8f27111e7457ddd36f4263c0a"
 },
 "nbformat": 3,
 "nbformat_minor": 0,
 "worksheets": [
  {
   "cells": [
    {
     "cell_type": "markdown",
     "metadata": {},
     "source": [
      "* Create a scene.\n",
      "* Create a ball.\n",
      "* Create a wall.\n",
      "* Move the ball.\n",
      "* Animate at certain rate.\n",
      "* Make the ball bounce at the right wall.\n",
      "* Create a left wall.\n",
      "* Make the ball bounce at the left wall.\n",
      "* Create an arrow representing the initial velocity."
     ]
    },
    {
     "cell_type": "code",
     "collapsed": false,
     "input": [
      "from ivisual import *\n",
      "\n",
      "scene = canvas()\n",
      "\n",
      "scene.width = 800\n",
      "scene.height = 600\n",
      "\n",
      "scene.autoscale = 0\n",
      "scene.range = (10,10,10)\n",
      "scene.center = (0,0,0)\n",
      "\n",
      "ball = sphere(pos=(-5,-5,0), radius=0.5, color=color.cyan)\n",
      "wallR = box(pos=(+6,0,0), size=(0.2,12,12), color=color.green)\n",
      "wallL = box(pos=(-6,0,0), size=(0.2,12,12), color=color.green)\n",
      "\n",
      "ball.velocity = vector(25,5,0)\n",
      "varr = arrow(pos=ball.pos, axis=ball.velocity, color=color.yellow)\n",
      "\n",
      "deltat = 0.005\n",
      "t=0\n",
      "\n",
      "while t < 3:\n",
      "    rate(50)\n",
      "    if ball.pos.x > wallR.pos.x:\n",
      "         ball.velocity.x = -ball.velocity.x\n",
      "    if ball.pos.x < wallL.pos.x:\n",
      "         ball.velocity.x = -ball.velocity.x\n",
      "    ball.pos = ball.pos + ball.velocity*deltat\n"
     ],
     "language": "python",
     "metadata": {},
     "outputs": [
      {
       "html": [
        "<div id=\"scene0\"><div id=\"glowscript\" class=\"glowscript\"></div></div>"
       ],
       "metadata": {},
       "output_type": "display_data",
       "text": [
        "<IPython.core.display.HTML at 0x10637f190>"
       ]
      },
      {
       "javascript": [
        "require.undef(\"nbextensions/glow.1.0.min\");"
       ],
       "metadata": {},
       "output_type": "display_data",
       "text": [
        "<IPython.core.display.Javascript at 0x10637fe10>"
       ]
      },
      {
       "javascript": [
        "require.undef(\"nbextensions/jquery-ui.custom.min\");"
       ],
       "metadata": {},
       "output_type": "display_data",
       "text": [
        "<IPython.core.display.Javascript at 0x10637fe50>"
       ]
      },
      {
       "javascript": [
        "require.undef(\"nbextensions/glow.1.1.min\");"
       ],
       "metadata": {},
       "output_type": "display_data",
       "text": [
        "<IPython.core.display.Javascript at 0x10637fe90>"
       ]
      },
      {
       "javascript": [
        "require.undef(\"nbextensions/glowcomm\");"
       ],
       "metadata": {},
       "output_type": "display_data",
       "text": [
        "<IPython.core.display.Javascript at 0x10637ffd0>"
       ]
      },
      {
       "javascript": [
        "require([\"nbextensions/glowcomm\"], function(){console.log(\"glowcomm loaded\");})"
       ],
       "metadata": {},
       "output_type": "display_data",
       "text": [
        "<IPython.core.display.Javascript at 0x1063c8050>"
       ]
      }
     ]
    },
    {
     "cell_type": "code",
     "collapsed": false,
     "input": [],
     "language": "python",
     "metadata": {},
     "outputs": []
    }
   ],
   "metadata": {}
  }
 ]
}