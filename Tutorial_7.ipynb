{
 "metadata": {
  "name": "",
  "signature": "sha256:e711575500801db1f247fb8a15f80892638b67b0f0cb6953c8ce08f254d6912d"
 },
 "nbformat": 3,
 "nbformat_minor": 0,
 "worksheets": [
  {
   "cells": [
    {
     "cell_type": "markdown",
     "metadata": {},
     "source": [
      "* Create a scene.\n",
      "* Create a ball.\n",
      "* Create a wall.\n",
      "* Move the ball.\n",
      "* Animate at certain rate.\n",
      "* Make the ball bounce at the right wall.\n",
      "* Create a left wall.\n",
      "* Make the ball bounce at the left wall.\n",
      "* Create an arrow representing the initial velocity.\n",
      "* Rescale the velocity vector."
     ]
    },
    {
     "cell_type": "code",
     "collapsed": false,
     "input": [
      "from ivisual import *\n",
      "\n",
      "scene = canvas()\n",
      "\n",
      "scene.width = 800\n",
      "scene.height = 600\n",
      "\n",
      "scene.autoscale = 0\n",
      "scene.range = (10,10,10)\n",
      "scene.center = (0,0,0)\n",
      "\n",
      "ball = sphere(pos=(-5,-5,0), radius=0.5, color=color.cyan)\n",
      "wallR = box(pos=(+6,0,0), size=(0.2,12,12), color=color.green)\n",
      "wallL = box(pos=(-6,0,0), size=(0.2,12,12), color=color.green, opacity=0)\n",
      "\n",
      "ball.velocity = vector(25,5,0)\n",
      "vscale = 0.1\n",
      "varr = arrow(pos=ball.pos, axis=vscale*ball.velocity, color=color.yellow)\n",
      "\n",
      "deltat = 0.005\n",
      "t=0\n",
      "\n",
      "while t < 3:\n",
      "    rate(50)\n",
      "    if ball.pos.x > wallR.pos.x:\n",
      "         ball.velocity.x = -ball.velocity.x\n",
      "    if ball.pos.x < wallL.pos.x:\n",
      "         ball.velocity.x = -ball.velocity.x\n",
      "    ball.pos = ball.pos + ball.velocity*deltat\n",
      "    t = t + deltat"
     ],
     "language": "python",
     "metadata": {},
     "outputs": [
      {
       "html": [
        "<div id=\"scene0\"><div id=\"glowscript\" class=\"glowscript\"></div></div>"
       ],
       "metadata": {},
       "output_type": "display_data",
       "text": [
        "<IPython.core.display.HTML at 0x1057f6cd0>"
       ]
      },
      {
       "javascript": [
        "require.undef(\"nbextensions/glow.1.0.min\");"
       ],
       "metadata": {},
       "output_type": "display_data",
       "text": [
        "<IPython.core.display.Javascript at 0x106ba2190>"
       ]
      },
      {
       "javascript": [
        "require.undef(\"nbextensions/jquery-ui.custom.min\");"
       ],
       "metadata": {},
       "output_type": "display_data",
       "text": [
        "<IPython.core.display.Javascript at 0x106ba21d0>"
       ]
      },
      {
       "javascript": [
        "require.undef(\"nbextensions/glow.1.1.min\");"
       ],
       "metadata": {},
       "output_type": "display_data",
       "text": [
        "<IPython.core.display.Javascript at 0x106ba2210>"
       ]
      },
      {
       "javascript": [
        "require.undef(\"nbextensions/glowcomm\");"
       ],
       "metadata": {},
       "output_type": "display_data",
       "text": [
        "<IPython.core.display.Javascript at 0x106ba2350>"
       ]
      },
      {
       "javascript": [
        "require([\"nbextensions/glowcomm\"], function(){console.log(\"glowcomm loaded\");})"
       ],
       "metadata": {},
       "output_type": "display_data",
       "text": [
        "<IPython.core.display.Javascript at 0x106ba23d0>"
       ]
      }
     ],
     "prompt_number": 1
    },
    {
     "cell_type": "code",
     "collapsed": false,
     "input": [],
     "language": "python",
     "metadata": {},
     "outputs": []
    }
   ],
   "metadata": {}
  }
 ]
}