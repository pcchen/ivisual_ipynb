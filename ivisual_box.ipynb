{
 "metadata": {
  "name": "",
  "signature": "sha256:cbd28671e3f6e50922ace8a3ee896addce07434913a5ddd593c5a51195f75cd8"
 },
 "nbformat": 3,
 "nbformat_minor": 0,
 "worksheets": [
  {
   "cells": [
    {
     "cell_type": "markdown",
     "metadata": {},
     "source": [
      "# box\n",
      "http://www.vpython.org/contents/docs/box.html"
     ]
    },
    {
     "cell_type": "code",
     "collapsed": false,
     "input": [
      "from ivisual import *"
     ],
     "language": "python",
     "metadata": {},
     "outputs": [
      {
       "html": [
        "<div id=\"scene0\"><div id=\"glowscript\" class=\"glowscript\"></div></div>"
       ],
       "metadata": {},
       "output_type": "display_data",
       "text": [
        "<IPython.core.display.HTML at 0x1060c2610>"
       ]
      },
      {
       "javascript": [
        "require.undef(\"nbextensions/glow.1.0.min\");"
       ],
       "metadata": {},
       "output_type": "display_data",
       "text": [
        "<IPython.core.display.Javascript at 0x10623ca90>"
       ]
      },
      {
       "javascript": [
        "require.undef(\"nbextensions/jquery-ui.custom.min\");"
       ],
       "metadata": {},
       "output_type": "display_data",
       "text": [
        "<IPython.core.display.Javascript at 0x10623cad0>"
       ]
      },
      {
       "javascript": [
        "require.undef(\"nbextensions/glow.1.1.min\");"
       ],
       "metadata": {},
       "output_type": "display_data",
       "text": [
        "<IPython.core.display.Javascript at 0x10623cb10>"
       ]
      },
      {
       "javascript": [
        "require.undef(\"nbextensions/glowcomm\");"
       ],
       "metadata": {},
       "output_type": "display_data",
       "text": [
        "<IPython.core.display.Javascript at 0x10623cc50>"
       ]
      },
      {
       "javascript": [
        "require([\"nbextensions/glowcomm\"], function(){console.log(\"glowcomm loaded\");})"
       ],
       "metadata": {},
       "output_type": "display_data",
       "text": [
        "<IPython.core.display.Javascript at 0x10623ccd0>"
       ]
      }
     ],
     "prompt_number": 1
    },
    {
     "cell_type": "code",
     "collapsed": false,
     "input": [
      "scene = canvas(title = \"Scene\")\n",
      "\n",
      "scene.width = 800\n",
      "scene.height = 600\n",
      "scene.autoscale = 0\n",
      "scene.range = (100,100,100)\n",
      "scene.center = (0,0,0)\n",
      "\n",
      "mybox = box(pos=(0,0,0), size=(100, 50, 20)) "
     ],
     "language": "python",
     "metadata": {},
     "outputs": [
      {
       "html": [
        "<div id=\"scene0\"><div id=\"glowscript\" class=\"glowscript\"></div></div>"
       ],
       "metadata": {},
       "output_type": "display_data",
       "text": [
        "<IPython.core.display.HTML at 0x1062aa610>"
       ]
      },
      {
       "javascript": [
        "window.__context = { glowscript_container: $(\"#glowscript\").removeAttr(\"id\")}"
       ],
       "metadata": {},
       "output_type": "display_data",
       "text": [
        "<IPython.core.display.Javascript at 0x106222d90>"
       ]
      }
     ],
     "prompt_number": 2
    },
    {
     "cell_type": "code",
     "collapsed": false,
     "input": [
      "print mybox.x, mybox.y, mybox.z\n",
      "print mybox.axis\n",
      "print mybox.pos\n",
      "print mybox.size"
     ],
     "language": "python",
     "metadata": {},
     "outputs": [
      {
       "output_type": "stream",
       "stream": "stdout",
       "text": [
        "0 0 0\n",
        "<100.000000, 0.000000, 0.000000>\n",
        "<0.000000, 0.000000, 0.000000>\n",
        "<100.000000, 50.000000, 20.000000>\n"
       ]
      }
     ],
     "prompt_number": 3
    }
   ],
   "metadata": {}
  }
 ]
}