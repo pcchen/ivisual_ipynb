{
 "metadata": {
  "name": "",
  "signature": "sha256:97bf31337bb10e1fbafbe1791babe68c9cc3b364a00b2a81bdd5c93cc14562c7"
 },
 "nbformat": 3,
 "nbformat_minor": 0,
 "worksheets": [
  {
   "cells": [
    {
     "cell_type": "markdown",
     "metadata": {},
     "source": [
      "# curve\n",
      "http://www.vpython.org/contents/docs/curve.html"
     ]
    },
    {
     "cell_type": "code",
     "collapsed": false,
     "input": [
      "from ivisual import *"
     ],
     "language": "python",
     "metadata": {},
     "outputs": [
      {
       "html": [
        "<div id=\"scene0\"><div id=\"glowscript\" class=\"glowscript\"></div></div>"
       ],
       "metadata": {},
       "output_type": "display_data",
       "text": [
        "<IPython.core.display.HTML at 0x1064d0650>"
       ]
      },
      {
       "javascript": [
        "require.undef(\"nbextensions/glow.1.0.min\");"
       ],
       "metadata": {},
       "output_type": "display_data",
       "text": [
        "<IPython.core.display.Javascript at 0x106a3eb10>"
       ]
      },
      {
       "javascript": [
        "require.undef(\"nbextensions/jquery-ui.custom.min\");"
       ],
       "metadata": {},
       "output_type": "display_data",
       "text": [
        "<IPython.core.display.Javascript at 0x106a3eb50>"
       ]
      },
      {
       "javascript": [
        "require.undef(\"nbextensions/glow.1.1.min\");"
       ],
       "metadata": {},
       "output_type": "display_data",
       "text": [
        "<IPython.core.display.Javascript at 0x106a3eb90>"
       ]
      },
      {
       "javascript": [
        "require.undef(\"nbextensions/glowcomm\");"
       ],
       "metadata": {},
       "output_type": "display_data",
       "text": [
        "<IPython.core.display.Javascript at 0x106a3ecd0>"
       ]
      },
      {
       "javascript": [
        "require([\"nbextensions/glowcomm\"], function(){console.log(\"glowcomm loaded\");})"
       ],
       "metadata": {},
       "output_type": "display_data",
       "text": [
        "<IPython.core.display.Javascript at 0x106a3ed50>"
       ]
      }
     ],
     "prompt_number": 1
    },
    {
     "cell_type": "code",
     "collapsed": false,
     "input": [
      "import numpy as np"
     ],
     "language": "python",
     "metadata": {},
     "outputs": [],
     "prompt_number": 2
    },
    {
     "cell_type": "code",
     "collapsed": false,
     "input": [
      "scene = canvas(title = \"curve3\")\n",
      "\n",
      "scene.width = 800\n",
      "scene.height = 600\n",
      "scene.autoscale = 0\n",
      "scene.range = (100,100,100)\n",
      "scene.center = (0,0,0)\n",
      "\n",
      "spiral = curve( color = color.cyan )\n",
      "for t in np.arange(0, 20*np.pi, 0.1):\n",
      "    spiral.append( pos=(t,np.sin(t),np.cos(t)))\n"
     ],
     "language": "python",
     "metadata": {},
     "outputs": [
      {
       "html": [
        "<div id=\"scene2\"><div id=\"glowscript\" class=\"glowscript\"></div></div>"
       ],
       "metadata": {},
       "output_type": "display_data",
       "text": [
        "<IPython.core.display.HTML at 0x106b03750>"
       ]
      },
      {
       "javascript": [
        "window.__context = { glowscript_container: $(\"#glowscript\").removeAttr(\"id\")}"
       ],
       "metadata": {},
       "output_type": "display_data",
       "text": [
        "<IPython.core.display.Javascript at 0x105fdcf50>"
       ]
      },
      {
       "output_type": "stream",
       "stream": "stdout",
       "text": [
        "commsend len(baseObj.cmds) > 0\n"
       ]
      }
     ],
     "prompt_number": 4
    },
    {
     "cell_type": "code",
     "collapsed": false,
     "input": [],
     "language": "python",
     "metadata": {},
     "outputs": []
    }
   ],
   "metadata": {}
  }
 ]
}